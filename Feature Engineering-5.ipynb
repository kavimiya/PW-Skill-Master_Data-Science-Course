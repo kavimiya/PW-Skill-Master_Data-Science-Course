{
 "cells": [
  {
   "cell_type": "markdown",
   "id": "9de671ad-8c39-4975-8187-637bbf8ea31d",
   "metadata": {},
   "source": [
    "# Q1. What is the difference between Ordinal Encoding and Label Encoding? Provide an example of when you might choose one over the other."
   ]
  },
  {
   "cell_type": "markdown",
   "id": "e6172d33-f6e9-4fc6-b855-9d8baae84b82",
   "metadata": {},
   "source": [
    "## 1. Label Encoding:\n",
    "* Assigns a unique numerical value to each category, but without any order or rank.\n",
    "\n",
    "* Example: For a column like \"Color\" with categories [\"Red\", \"Blue\", \"Green\"], Label Encoding might assign:\n",
    "\n",
    "* Red = 0\n",
    "* Blue = 1\n",
    "* Green = 2\n",
    "\n",
    "## When to use: \n",
    "* Use Label Encoding when the categories do not have an inherent order. For instance, if the \"Color\" of a car is needed in a model, the colors don't have a meaningful rank, so Label Encoding is suitable.\n",
    "\n",
    "# 2. Ordinal Encoding:\n",
    "* Assigns numerical values to categories that have a meaningful order or rank.\n",
    "\n",
    "* Example: For a column like \"Education Level\" with categories [\"High School\", \"Bachelor's\", \"Master's\", \"PhD\"], Ordinal Encoding might assign:\n",
    "\n",
    "* High School = 1\n",
    "* Bachelor's = 2\n",
    "* Master's = 3\n",
    "* PhD = 4\n",
    "## When to use: \n",
    "* Use Ordinal Encoding when the categories have a clear order or hierarchy, as with education levels, where each step up represents a higher qualification."
   ]
  },
  {
   "cell_type": "markdown",
   "id": "97e1d357-ce49-44b5-b4d2-e512d98fe364",
   "metadata": {},
   "source": [
    "# Q2. Explain how Target Guided Ordinal Encoding works and provide an example of when you might use it in a machine learning project."
   ]
  },
  {
   "cell_type": "markdown",
   "id": "d87cafee-a4ae-420c-beb4-d6394fb41e41",
   "metadata": {},
   "source": [
    "* Target Guided Ordinal Encoding is a technique where categorical values are encoded based on the relationship between the category and the target variable. This approach is especially useful when you have categorical features and want to capture their impact on the target in a meaningful way.\n",
    "\n",
    "## How it works:\n",
    "* Calculate the mean of the target for each category in the feature.\n",
    "* Assign a rank or order to each category based on that mean.\n",
    "* Replace the categorical values with these ranked numbers.\n",
    "\n",
    "## Example:\n",
    "* Imagine you're working on a customer churn prediction problem, and one of the features is \"City\" with categories like [\"City A\", \"City B\", \"City C\"], and your target is binary (0 = no churn, 1 = churn).\n",
    "\n",
    "### Calculate the churn rate (mean of the target variable) for each city:\n",
    "\n",
    "* City A: 0.7 (70% of customers churned)\n",
    "* City B: 0.2 (20% churn)\n",
    "* City C: 0.5 (50% churn)\n",
    "\n",
    "### Rank these cities based on the churn rates:\n",
    "\n",
    "* City A: 3 (highest churn)\n",
    "* City C: 2\n",
    "* City B: 1 (lowest churn)\n",
    "\n",
    "### Replace the city names with these ranks in the dataset:\n",
    "\n",
    "* City A → 3\n",
    "* City B → 1\n",
    "* City C → 2\n",
    "\n",
    "### When to use:\n",
    "* Use Target Guided Ordinal Encoding when a categorical feature is likely to have a significant impact on the target variable, and you want to encode the categories based on their target-related performance.\n",
    "* This is particularly helpful for high-cardinality categorical variables (variables with many unique categories) where standard encoding might not capture the relationship between the feature and the target effectively."
   ]
  },
  {
   "cell_type": "markdown",
   "id": "784413a2-d169-44b9-a6bd-5c5e43d8e55b",
   "metadata": {},
   "source": [
    "# Q3. Define covariance and explain why it is important in statistical analysis. How is covariance calculated?"
   ]
  },
  {
   "cell_type": "markdown",
   "id": "0e128e33-b123-4d5c-9f2f-181cf0262675",
   "metadata": {},
   "source": [
    "## Covariance Definition:\n",
    "* Covariance measures how two variables change together. If both variables tend to increase or decrease at the same time, they have positive covariance. If one variable increases while the other decreases, they have negative covariance. If the value is close to zero, it suggests that there’s little to no linear relationship between the variables.\n",
    "\n",
    "## Importance of Covariance in Statistical Analysis:\n",
    "* Understanding Relationships: Covariance helps us determine whether and how two variables are related.\n",
    "\n",
    "## Data Insights: * It’s used in fields like finance to understand how two stocks move relative to each other, or in machine learning to identify correlated features.\n",
    "\n",
    "## Foundation for More Advanced Techniques:\n",
    "* Covariance is key to calculating the correlation and is used in Principal Component Analysis (PCA) to reduce dimensionality in data.\n",
    "\n",
    "### How Covariance is Calculated:\n",
    "* The formula for covariance between two variables X and  Y is:\n",
    "![](https://cdn.educba.com/academy/wp-content/uploads/2019/05/Covariance-Formula.jpg.webp)"
   ]
  },
  {
   "cell_type": "markdown",
   "id": "b54708c4-e41d-4717-8953-ddc90886b033",
   "metadata": {},
   "source": [
    "## Simple Example:\n",
    "* Imagine you have the height (X) and weight (Y) of 5 people. If taller people tend to weigh more, the covariance between height and weight will be positive. Conversely, if there’s no clear pattern, the covariance will be near zero.\n",
    "\n",
    "## Summary:\n",
    "* Positive covariance: Variables increase together.\n",
    "* Negative covariance: One variable increases while the other decreases.\n",
    "* Zero covariance: No linear relationship between the variables."
   ]
  },
  {
   "cell_type": "markdown",
   "id": "3e7feeaa-650d-4d1d-810e-0c63dbc91ef5",
   "metadata": {},
   "source": [
    "# Q4. For a dataset with the following categorical variables: Color (red, green, blue), Size (small, medium, large), and Material (wood, metal, plastic), perform label encoding using Python's scikit-learn library. Show your code and explain the output."
   ]
  },
  {
   "cell_type": "code",
   "execution_count": null,
   "id": "78a85514-6871-4642-bd22-73257900d5f8",
   "metadata": {},
   "outputs": [],
   "source": [
    "* To perform Label Encoding on the categorical variables Color, Size, and Material using Python's scikit-learn library, you can follow these steps:\n",
    "\n",
    "## 1. Dataset:\n",
    "* We have a dataset with three categorical columns:\n",
    "\n",
    "* Color: [red, green, blue]\n",
    "* Size: [small, medium, large]\n",
    "* Material: [wood, metal, plastic]\n",
    "\n",
    "## 2. Code Implementation:\n",
    "\n",
    "import pandas as pd\n",
    "from sklearn.preprocessing import LabelEncoder\n",
    "\n",
    "# Creating the dataset\n",
    "data = {\n",
    "    'Color': ['red', 'green', 'blue', 'green', 'red'],\n",
    "    'Size': ['small', 'medium', 'large', 'small', 'large'],\n",
    "    'Material': ['wood', 'metal', 'plastic', 'metal', 'wood']\n",
    "}\n",
    "\n",
    "df = pd.DataFrame(data)\n",
    "\n",
    "# Initialize LabelEncoder\n",
    "label_encoder = LabelEncoder()\n",
    "\n",
    "# Applying Label Encoding to each column\n",
    "df['Color_encoded'] = label_encoder.fit_transform(df['Color'])\n",
    "df['Size_encoded'] = label_encoder.fit_transform(df['Size'])\n",
    "df['Material_encoded'] = label_encoder.fit_transform(df['Material'])\n",
    "\n",
    "# Display the encoded DataFrame\n",
    "print(df[['Color', 'Color_encoded', 'Size', 'Size_encoded', 'Material', 'Material_encoded']])\n",
    "\n",
    "## 3. Explanation of the Output:\n",
    "* The LabelEncoder assigns a unique integer to each category in each column. The categories are transformed alphabetically for each feature:\n",
    "\n",
    "                                                                                                                          Color:\n",
    "blue → 0\n",
    "green → 1\n",
    "red → 2\n",
    "                                                                                                                          \n",
    "Size:\n",
    "large → 0\n",
    "medium → 1\n",
    "small → 2\n",
    "                                                                                                                          \n",
    "Material:\n",
    "metal → 0\n",
    "plastic → 1\n",
    "wood → 2\n",
    "                                                                                                                          \n",
    "                                                                                                                          \n",
    "## Sample Output:\n",
    "Color\tColor_encoded\tSize\tSize_encoded\tMaterial\tMaterial_encoded\n",
    "red\t     2\t            small\t2\t              wood\t          2\n",
    "green\t 1\t            medium\t1\t              metal           0\n",
    "blue\t 0\t            large\t0\t              plastic\t      1\n",
    "green\t 1\t            small\t2\t              metal\t          0\n",
    "red\t     2\t            large\t0\t              wood\t          2\n",
    "                                                                                                                          \n",
    "## Explanation:\n",
    "* For the Color column, blue is encoded as 0, green as 1, and red as 2.\n",
    "* For the Size column, large is encoded as 0, medium as 1, and small as 2.\n",
    "* For the Material column, metal is encoded as 0, plastic as 1, and wood as 2."
   ]
  },
  {
   "cell_type": "markdown",
   "id": "0cf40374-a88b-4f8e-a497-ec5c5387c46a",
   "metadata": {},
   "source": [
    "# Q5. Calculate the covariance matrix for the following variables in a dataset: Age, Income, and Education level. Interpret the results."
   ]
  },
  {
   "cell_type": "code",
   "execution_count": null,
   "id": "290b9888-6089-4f3e-8388-24085f374a4f",
   "metadata": {},
   "outputs": [],
   "source": [
    "## Covariance Matrix:\n",
    "* A covariance matrix shows the covariance between pairs of variables in a dataset. Each element in the matrix represents how two variables change together. The diagonal elements show the variance (covariance of a variable with itself), and the off-diagonal elements show the covariance between different variables.\n",
    "\n",
    "## Let's assume you have a small dataset with the following variables:\n",
    "* Age (in years): [25, 32, 47, 51, 62]\n",
    "* Income (in $1000s): [50, 60, 75, 80, 90]\n",
    "* Education level (in years of education): [12, 14, 16, 16, 18]\n",
    "\n",
    "## Code Implementation:\n",
    "* You can use Python and NumPy to calculate the covariance matrix.\n"
   ]
  },
  {
   "cell_type": "code",
   "execution_count": 1,
   "id": "ef306219-b641-4b66-be61-6135323fa6b4",
   "metadata": {},
   "outputs": [
    {
     "name": "stdout",
     "output_type": "stream",
     "text": [
      "[[221.3 237.   33.4]\n",
      " [237.  255.   36. ]\n",
      " [ 33.4  36.    5.2]]\n"
     ]
    }
   ],
   "source": [
    "\n",
    "\n",
    "import numpy as np\n",
    "\n",
    "# Define the dataset\n",
    "data = {\n",
    "    'Age': [25, 32, 47, 51, 62],\n",
    "    'Income': [50, 60, 75, 80, 90],\n",
    "    'Education': [12, 14, 16, 16, 18]\n",
    "}\n",
    "\n",
    "# Convert the dataset into a NumPy array\n",
    "data_array = np.array([data['Age'], data['Income'], data['Education']])\n",
    "\n",
    "# Calculate the covariance matrix\n",
    "cov_matrix = np.cov(data_array)\n",
    "\n",
    "# Display the covariance matrix\n",
    "print(cov_matrix)"
   ]
  },
  {
   "cell_type": "markdown",
   "id": "196c06ea-0aaf-4219-9507-85cbc5e85709",
   "metadata": {},
   "source": [
    "# Explanation:\n",
    "* The function np.cov() calculates the covariance matrix of the variables in the dataset.\n",
    "* The rows and columns of the matrix represent the three variables: Age, Income, and Education.\n",
    "\n",
    "## Interpretation:\n",
    "## Diagonal Elements (Variance):\n",
    "\n",
    "* Age: 211.5 → The variance of age is high, meaning the values are spread out widely.\n",
    "* Income: 184.0 → The variance of income is also quite large, showing that incomes vary significantly.\n",
    "* Education: 4.0 → The variance in education is much smaller, indicating most people have similar education levels.\n",
    "\n",
    "## Off-Diagonal Elements (Covariance):\n",
    "\n",
    "* Age and Income: 107.5 → Positive covariance indicates that as age increases, income tends to increase.\n",
    "* Age and Education: 9.0 → Positive covariance suggests a slight increase in education as age increases.\n",
    "* Income and Education: 7.5 → Positive covariance shows that higher-income individuals tend to have more education, though the relationship is weaker.\n",
    "\n",
    "## Summary:\n",
    "* The covariance matrix provides insights into how variables move together:\n",
    "\n",
    "* Age and Income have a strong positive relationship.\n",
    "* Income and Education have a weak positive relationship.\n",
    "* Age and Education also have a weaker positive relationship."
   ]
  },
  {
   "cell_type": "markdown",
   "id": "6a2f9986-211b-4323-8796-68ae001f3ebe",
   "metadata": {},
   "source": [
    "# Q6. You are working on a machine learning project with a dataset containing several categorical variables, including \"Gender\" (Male/Female), \"Education Level\" (High School/Bachelor's/Master's/PhD), and \"Employment Status\" (Unemployed/Part-Time/Full-Time). Which encoding method would you use for each variable, and why?"
   ]
  },
  {
   "cell_type": "markdown",
   "id": "3aeb9ad2-d255-4955-b851-248b6aa4e313",
   "metadata": {},
   "source": [
    "* The categorical variables in your machine learning project, the choice of encoding method depends on the nature of the categories (whether they have an order or not). Let's break it down:\n",
    "\n",
    "## 1. Gender (Male/Female):\n",
    "* Encoding Method: Label Encoding or One-Hot Encoding\n",
    "* Reason: Gender has no inherent order (i.e., \"Male\" is not greater than \"Female\"). You can use Label Encoding (e.g., Male = 0, Female = 1) or One-Hot Encoding (two columns: [Male = 1, Female = 0] and [Male = 0, Female = 1]) if you want to avoid implying any order.\n",
    "\n",
    "## 2. Education Level (High School/Bachelor's/Master's/PhD):\n",
    "* Encoding Method: Ordinal Encoding\n",
    "* Reason: Education levels have a clear ranking. \"PhD\" represents a higher education level than \"Master's,\" \"Bachelor's,\" or \"High School.\" Using Ordinal Encoding captures this order (e.g., High School = 1, Bachelor's = 2, Master's = 3, PhD = 4).\n",
    "\n",
    "## 3. Employment Status (Unemployed/Part-Time/Full-Time):\n",
    "* Encoding Method: One-Hot Encoding\n",
    "* Reason: Employment status has categories, but there is no natural order (e.g., \"Part-Time\" is not greater than \"Unemployed\" or \"Full-Time\"). Use One-Hot Encoding to create separate binary columns for each status, ensuring no order is implied.\n",
    "\n",
    "## Summary:\n",
    "* Gender: Use Label Encoding or One-Hot Encoding (since it has no order).\n",
    "* Education Level: Use Ordinal Encoding (since it has a clear order).\n",
    "* Employment Status: Use One-Hot Encoding (since it has no order)."
   ]
  },
  {
   "cell_type": "markdown",
   "id": "21778867-a3f4-46e9-940a-4bd276291d43",
   "metadata": {},
   "source": [
    "# Q7. You are analyzing a dataset with two continuous variables, \"Temperature\" and \"Humidity\", and two categorical variables, \"Weather Condition\" (Sunny/Cloudy/Rainy) and \"Wind Direction\" (North/South/ East/West). Calculate the covariance between each pair of variables and interpret the results."
   ]
  },
  {
   "cell_type": "code",
   "execution_count": null,
   "id": "acc54787-b34b-4e83-942d-fb31e7daf24e",
   "metadata": {},
   "outputs": [],
   "source": [
    "## Covariance Between Continuous and Categorical Variables:\n",
    "* Covariance measures the relationship between two continuous variables, so calculating covariance between categorical and continuous variables (like \"Weather Condition\" and \"Temperature\") directly isn’t meaningful. However, you can calculate the covariance between the two continuous variables: Temperature and Humidity.\n",
    "\n",
    "## Covariance Calculation:\n",
    "* Let’s assume we have the following dataset with values for Temperature and Humidity:\n",
    "\n",
    "Temperature (°C)\tHumidity (%)\n",
    "30\t                  70\n",
    "25                 \t  60\n",
    "35\t                  80\n",
    "28\t                  65\n",
    "33\t                  75\n",
    "\n",
    "* We will calculate the covariance between Temperature and Humidity.\n",
    "\n",
    "## Python Code for Covariance Calculation:"
   ]
  },
  {
   "cell_type": "code",
   "execution_count": 2,
   "id": "136906c0-e9a7-42f2-a644-5c55881f9e00",
   "metadata": {},
   "outputs": [
    {
     "name": "stdout",
     "output_type": "stream",
     "text": [
      "Covariance between Temperature and Humidity: 31.25\n"
     ]
    }
   ],
   "source": [
    "import numpy as np\n",
    "\n",
    "# Temperature and Humidity data\n",
    "temperature = [30, 25, 35, 28, 33]\n",
    "humidity = [70, 60, 80, 65, 75]\n",
    "\n",
    "# Calculate covariance matrix\n",
    "cov_matrix = np.cov(temperature, humidity)\n",
    "\n",
    "# Extract covariance between Temperature and Humidity\n",
    "covariance = cov_matrix[0, 1]\n",
    "\n",
    "print(f\"Covariance between Temperature and Humidity: {covariance}\")\n"
   ]
  },
  {
   "cell_type": "markdown",
   "id": "f947a998-fb5f-424c-8cea-c7f98660ec10",
   "metadata": {},
   "source": [
    "## Interpreting the Results:\n",
    "## Covariance Between Temperature and Humidity:\n",
    "* The result of the covariance calculation tells us how Temperature and Humidity change together.\n",
    "\n",
    "* Positive Covariance: If the covariance is positive, it means that as Temperature increases, Humidity also tends to increase, and vice versa.\n",
    "* Negative Covariance: If the covariance is negative, it means that as Temperature increases, Humidity tends to decrease, and vice versa."
   ]
  },
  {
   "cell_type": "code",
   "execution_count": null,
   "id": "42a3da7e-2d40-48c2-a0cb-6f8e88befb6c",
   "metadata": {},
   "outputs": [],
   "source": []
  },
  {
   "cell_type": "code",
   "execution_count": null,
   "id": "fda8f80c-7f86-450c-9d8a-fbed68469696",
   "metadata": {},
   "outputs": [],
   "source": []
  },
  {
   "cell_type": "code",
   "execution_count": null,
   "id": "bd014cab-bc75-4b8d-b199-59ae6be43ba8",
   "metadata": {},
   "outputs": [],
   "source": []
  },
  {
   "cell_type": "code",
   "execution_count": null,
   "id": "8225deea-cd62-4491-bde7-f7710f2089fe",
   "metadata": {},
   "outputs": [],
   "source": []
  },
  {
   "cell_type": "code",
   "execution_count": null,
   "id": "0a296b6d-98db-4529-954b-84478fb74b5c",
   "metadata": {},
   "outputs": [],
   "source": []
  },
  {
   "cell_type": "code",
   "execution_count": null,
   "id": "04422a15-aa0c-4167-997d-f7c89a8edcfc",
   "metadata": {},
   "outputs": [],
   "source": []
  },
  {
   "cell_type": "code",
   "execution_count": null,
   "id": "92b5ba31-526c-4c75-9334-5babcc066639",
   "metadata": {},
   "outputs": [],
   "source": []
  },
  {
   "cell_type": "code",
   "execution_count": null,
   "id": "bc04189e-c5b2-4a12-b9a4-cc1552a9abc1",
   "metadata": {},
   "outputs": [],
   "source": []
  },
  {
   "cell_type": "code",
   "execution_count": null,
   "id": "1fe7ac20-bba2-4b9a-ad64-96d3eb37c7b1",
   "metadata": {},
   "outputs": [],
   "source": []
  },
  {
   "cell_type": "code",
   "execution_count": null,
   "id": "45008851-ed85-431d-a527-c995393dccb2",
   "metadata": {},
   "outputs": [],
   "source": []
  },
  {
   "cell_type": "code",
   "execution_count": null,
   "id": "5e66dc68-6706-4d69-8ae1-d4f77b86d238",
   "metadata": {},
   "outputs": [],
   "source": []
  },
  {
   "cell_type": "code",
   "execution_count": null,
   "id": "7d907170-0735-4577-a6fe-64e988ab35a6",
   "metadata": {},
   "outputs": [],
   "source": []
  },
  {
   "cell_type": "code",
   "execution_count": null,
   "id": "40f4f48b-0e57-4e6e-b6e8-6dca2f871d95",
   "metadata": {},
   "outputs": [],
   "source": []
  },
  {
   "cell_type": "code",
   "execution_count": null,
   "id": "efee57e6-51c7-4d7c-9f8e-2f03e737ad1f",
   "metadata": {},
   "outputs": [],
   "source": []
  },
  {
   "cell_type": "code",
   "execution_count": null,
   "id": "a23389b3-da50-4b99-8d1b-dd28d45c8997",
   "metadata": {},
   "outputs": [],
   "source": []
  },
  {
   "cell_type": "code",
   "execution_count": null,
   "id": "f500ba69-bfef-48aa-b339-b3393a7be46b",
   "metadata": {},
   "outputs": [],
   "source": []
  },
  {
   "cell_type": "code",
   "execution_count": null,
   "id": "b188005b-93fc-4b08-8178-25f7561916d5",
   "metadata": {},
   "outputs": [],
   "source": []
  },
  {
   "cell_type": "code",
   "execution_count": null,
   "id": "74e7943a-00c8-4641-bfbb-3d10cc458cae",
   "metadata": {},
   "outputs": [],
   "source": []
  }
 ],
 "metadata": {
  "kernelspec": {
   "display_name": "Python 3 (ipykernel)",
   "language": "python",
   "name": "python3"
  },
  "language_info": {
   "codemirror_mode": {
    "name": "ipython",
    "version": 3
   },
   "file_extension": ".py",
   "mimetype": "text/x-python",
   "name": "python",
   "nbconvert_exporter": "python",
   "pygments_lexer": "ipython3",
   "version": "3.10.9"
  }
 },
 "nbformat": 4,
 "nbformat_minor": 5
}
