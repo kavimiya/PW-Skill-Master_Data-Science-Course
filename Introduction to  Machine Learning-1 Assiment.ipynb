{
 "cells": [
  {
   "cell_type": "markdown",
   "id": "9ee76b26-d877-4976-9f62-27fad5525193",
   "metadata": {},
   "source": [
    "# Q1: Explain the following with an example:\n",
    "> 1.Artificial Intelligence\n",
    "> 2.Machine Learning\n",
    "> 3.Deep Learning"
   ]
  },
  {
   "cell_type": "markdown",
   "id": "3f19d62d-b826-41dc-8ad6-bee42978a4a4",
   "metadata": {},
   "source": [
    "## Artificial Intelligence (AI):\n",
    "* AI refers to the simulation of human intelligence in machines. These machines are designed to think and perform tasks like humans.\n",
    "\n",
    "## Example: \n",
    "* A chatbot that answers customer queries automatically.\n",
    "## Machine Learning (ML): \n",
    "* ML is a subset of AI where machines learn from data and improve their performance over time without being explicitly programmed.\n",
    "\n",
    "## Example: \n",
    "* An email spam filter that improves by learning from labeled spam and non-spam emails.\n",
    "## Deep Learning (DL): \n",
    "* DL is a subset of ML that uses neural networks with many layers to analyze complex patterns in data, especially in large datasets.\n",
    "\n",
    "## Example:\n",
    "* Image recognition systems, like facial recognition on smartphones."
   ]
  },
  {
   "cell_type": "markdown",
   "id": "1cbdd626-58f3-4190-b738-555a4964cffb",
   "metadata": {},
   "source": [
    "# Q2: What is supervised learning? List some examples of supervised learning"
   ]
  },
  {
   "cell_type": "markdown",
   "id": "915842d7-775f-457a-81d7-9904160fe8f0",
   "metadata": {},
   "source": [
    "* Supervised Learning is a type of machine learning where the model is trained on labeled data, meaning the input data is paired with the correct output. The model learns to map inputs to outputs and makes predictions based on that learning.\n",
    "\n",
    "## Examples of Supervised Learning:\n",
    "## Regression: \n",
    "* Predicting house prices based on features like size, location, etc.\n",
    "## Classification: \n",
    "* Identifying if an email is spam or not (spam detection).\n",
    "\n",
    "\n",
    "\n",
    "\n",
    "\n",
    "\n",
    "\n"
   ]
  },
  {
   "cell_type": "markdown",
   "id": "8262b95c-c6fb-48c7-9032-b43b9d7e962b",
   "metadata": {},
   "source": [
    "# Q3:  What is unsupervised learning? List some examples of unsupervised learning"
   ]
  },
  {
   "cell_type": "markdown",
   "id": "aafb1c56-2d3b-4042-9e23-d9ee0d81dad5",
   "metadata": {},
   "source": [
    "* Unsupervised Learning is a type of machine learning where the model is trained on unlabeled data. The system tries to learn patterns and relationships within the data without any specific guidance on what the output should be.\n",
    "\n",
    "## Examples of Unsupervised Learning:\n",
    "* Clustering: Grouping customers into segments based on purchasing behavior.\n",
    "* Dimensionality Reduction: Reducing the number of variables in a dataset (e.g., PCA).\n",
    "* Anomaly Detection: Identifying unusual patterns in network traffic for fraud detection."
   ]
  },
  {
   "cell_type": "markdown",
   "id": "e26a66da-897c-441d-b81b-0380a86a5ce4",
   "metadata": {},
   "source": [
    "# Q4: What is the difference between AI, ML, DL, and DS?"
   ]
  },
  {
   "cell_type": "markdown",
   "id": "26bd92a5-931d-4f64-9b61-17090e98a332",
   "metadata": {},
   "source": [
    "## Artificial Intelligence (AI): \n",
    "* The broad field of creating machines that mimic human intelligence, capable of reasoning, problem-solving, and learning.\n",
    "\n",
    "## Example: \n",
    "* Voice assistants like Siri or Alexa.\n",
    "## Machine Learning (ML):\n",
    "* A subset of AI where machines learn from data and improve over time without explicit programming.\n",
    "\n",
    "## Example:\n",
    "* Spam email detection.\n",
    "## Deep Learning (DL):\n",
    "* A specialized subset of ML that uses neural networks with many layers to analyze large amounts of data for complex tasks.\n",
    "\n",
    "## Example:\n",
    "* Image and voice recognition systems.\n",
    "## Data Science (DS):\n",
    "* The field focused on extracting insights from data using statistical analysis, machine learning, and domain expertise.\n",
    "\n",
    "## Example:\n",
    "* Analyzing customer data to improve marketing strategies."
   ]
  },
  {
   "cell_type": "markdown",
   "id": "8f268866-c726-46e4-a820-189c93430c59",
   "metadata": {},
   "source": [
    "# Q5: What are the main differences between supervised, unsupervised, and semi-supervised learning?"
   ]
  },
  {
   "cell_type": "markdown",
   "id": "76298ad9-2893-401f-84a0-32d9e739cdf7",
   "metadata": {},
   "source": [
    "Supervised Learning: Uses labeled data to train the model. Aims to predict or classify based on known labels.\n",
    "\n",
    "Unsupervised Learning: Uses unlabeled data. Aims to discover patterns or groupings without predefined labels.\n",
    "\n",
    "Semi-Supervised Learning: Uses a mix of labeled and unlabeled data. Aims to improve model performance by leveraging both types of data."
   ]
  },
  {
   "cell_type": "markdown",
   "id": "2253dc97-743e-404c-830d-c9f6edb7d5e4",
   "metadata": {},
   "source": [
    "# Q6: What is train, test and validation split? Explain the importance of each term"
   ]
  },
  {
   "cell_type": "markdown",
   "id": "f7f8ac1c-218b-469c-9701-f9f182b103ec",
   "metadata": {},
   "source": [
    "Train Split: Used to train the model. Importance: For learning patterns.\n",
    "\n",
    "Test Split: Used to evaluate model performance. Importance: To check generalization.\n",
    "\n",
    "Validation Split: Used to tune model settings. Importance: To prevent overfitting."
   ]
  },
  {
   "cell_type": "markdown",
   "id": "2bee4378-1217-4652-b473-fcf29497b919",
   "metadata": {},
   "source": [
    "# Q7: How can unsupervised learning be used in anomaly detection?"
   ]
  },
  {
   "cell_type": "markdown",
   "id": "1ce5dc1c-af2b-4df6-80d9-8b97553c3dd2",
   "metadata": {},
   "source": [
    "Unsupervised learning can be used in anomaly detection by identifying patterns or clusters in data and flagging instances that deviate significantly from these patterns. Techniques like clustering or dimensionality reduction help detect unusual or rare events without needing labeled examples of anomalies."
   ]
  },
  {
   "cell_type": "markdown",
   "id": "5d09194c-fed7-4d24-823a-7ef88393c995",
   "metadata": {},
   "source": [
    "# Q8: List down some commonly used supervised learning algorithms and unsupervised learning  algorithms."
   ]
  },
  {
   "cell_type": "markdown",
   "id": "34d33b32-1291-4709-b5e9-1926f30fbe8d",
   "metadata": {},
   "source": [
    "## Supervised Learning Algorithms:\n",
    "\n",
    "* Linear Regression\n",
    "* Logistic Regression\n",
    "* Decision Trees\n",
    "* Random Forest\n",
    "* Support Vector Machines (SVM)\n",
    "* k-Nearest Neighbors (k-NN)\n",
    "* Neural Networks\n",
    "\n",
    "## Unsupervised Learning Algorithms:\n",
    "\n",
    "* k-Means Clustering\n",
    "* Hierarchical Clustering\n",
    "* Principal Component Analysis (PCA)\n"
   ]
  }
 ],
 "metadata": {
  "kernelspec": {
   "display_name": "Python 3 (ipykernel)",
   "language": "python",
   "name": "python3"
  },
  "language_info": {
   "codemirror_mode": {
    "name": "ipython",
    "version": 3
   },
   "file_extension": ".py",
   "mimetype": "text/x-python",
   "name": "python",
   "nbconvert_exporter": "python",
   "pygments_lexer": "ipython3",
   "version": "3.9.6"
  }
 },
 "nbformat": 4,
 "nbformat_minor": 5
}
