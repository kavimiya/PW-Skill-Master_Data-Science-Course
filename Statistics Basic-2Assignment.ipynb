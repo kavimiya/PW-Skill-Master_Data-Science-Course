{
 "cells": [
  {
   "cell_type": "markdown",
   "id": "5a30b919",
   "metadata": {},
   "source": [
    "# Q1. What are the three measures of central tendency? "
   ]
  },
  {
   "cell_type": "markdown",
   "id": "1fc5b3f9",
   "metadata": {},
   "source": [
    "* Mean \n",
    "* Median \n",
    "* Mode"
   ]
  },
  {
   "cell_type": "markdown",
   "id": "db4093ba",
   "metadata": {},
   "source": [
    "# Q2. What is the difference between the mean, median, and mode? How are they used to measure the  central tendency of a dataset?"
   ]
  },
  {
   "cell_type": "markdown",
   "id": "c76ba5e4",
   "metadata": {},
   "source": [
    "## Mean:\n",
    "*  Average of a dataset.\n",
    "*  Sum of values divided by the number of values.\n",
    "* Sensitive to outliers.\n",
    "* Suitable for symmetrical data.\n",
    "\n",
    "## Median:\n",
    "\n",
    "* Middle value in a sorted dataset.\n",
    "* Middle value or average of two middle values.\n",
    "* Less affected by outliers.\n",
    "* Suitable for skewed data or datasets with outliers.\n",
    "\n",
    "## Mode:\n",
    "\n",
    "* Most frequently occurring value.\n",
    "* One mode, more than one, or none.\n",
    "* Not influenced by outliers.\n",
    "* Useful for categorical data; indicates common values."
   ]
  },
  {
   "cell_type": "markdown",
   "id": "e2281f05",
   "metadata": {},
   "source": [
    "# Q3.Measure the three measures of central tendency for the given height data:  [178,177,176,177,178.2,178,175,179,180,175,178.9,176.2,177,172.5,178,176.5] \n"
   ]
  },
  {
   "cell_type": "code",
   "execution_count": 1,
   "id": "f93d7d3f",
   "metadata": {},
   "outputs": [],
   "source": [
    "data=[178,177,176,177,178.2,178,175,179,180,175,178.9,176.2,177,172.5,178,176.5]"
   ]
  },
  {
   "cell_type": "code",
   "execution_count": 3,
   "id": "844bf7a8",
   "metadata": {},
   "outputs": [],
   "source": [
    "import numpy as np"
   ]
  },
  {
   "cell_type": "code",
   "execution_count": 8,
   "id": "e621aee9",
   "metadata": {},
   "outputs": [
    {
     "name": "stdout",
     "output_type": "stream",
     "text": [
      "Mean: 177.01875\n"
     ]
    }
   ],
   "source": [
    "print('Mean:',np.mean(data))"
   ]
  },
  {
   "cell_type": "code",
   "execution_count": 9,
   "id": "85f1d844",
   "metadata": {},
   "outputs": [
    {
     "name": "stdout",
     "output_type": "stream",
     "text": [
      "Median: 177.0\n"
     ]
    }
   ],
   "source": [
    "print('Median:',np.median(data))"
   ]
  },
  {
   "cell_type": "code",
   "execution_count": 6,
   "id": "90f45781",
   "metadata": {},
   "outputs": [
    {
     "name": "stderr",
     "output_type": "stream",
     "text": [
      "D:\\New folder\\lib\\site-packages\\scipy\\__init__.py:146: UserWarning: A NumPy version >=1.16.5 and <1.23.0 is required for this version of SciPy (detected version 1.26.0\n",
      "  warnings.warn(f\"A NumPy version >={np_minversion} and <{np_maxversion}\"\n"
     ]
    }
   ],
   "source": [
    "from scipy import stats"
   ]
  },
  {
   "cell_type": "code",
   "execution_count": 10,
   "id": "8d203abc",
   "metadata": {},
   "outputs": [
    {
     "name": "stdout",
     "output_type": "stream",
     "text": [
      "Mode: ModeResult(mode=array([177.]), count=array([3]))\n"
     ]
    }
   ],
   "source": [
    "print('Mode:',stats.mode(data))"
   ]
  },
  {
   "cell_type": "markdown",
   "id": "60884ac5",
   "metadata": {},
   "source": [
    "# Q4. Find the standard deviation for the given data: \n",
    "[178,177,176,177,178.2,178,175,179,180,175,178.9,176.2,177,172.5,178,176.5]\n"
   ]
  },
  {
   "cell_type": "code",
   "execution_count": 11,
   "id": "905f54c4",
   "metadata": {},
   "outputs": [],
   "source": [
    "data=[178,177,176,177,178.2,178,175,179,180,175,178.9,176.2,177,172.5,178,176.5]"
   ]
  },
  {
   "cell_type": "code",
   "execution_count": 12,
   "id": "cdb3d67f",
   "metadata": {},
   "outputs": [
    {
     "data": {
      "text/plain": [
       "1.7885814036548633"
      ]
     },
     "execution_count": 12,
     "metadata": {},
     "output_type": "execute_result"
    }
   ],
   "source": [
    "np.std(data)"
   ]
  },
  {
   "cell_type": "markdown",
   "id": "166f866c",
   "metadata": {},
   "source": [
    "# Q5. How are measures of dispersion such as range, variance, and standard deviation used to describe  the spread of a dataset? Provide an example."
   ]
  },
  {
   "cell_type": "markdown",
   "id": "86348c04",
   "metadata": {},
   "source": [
    "## Range: Difference between the highest and lowest values. Provides a quick sense of spread.\n",
    "\n",
    "* For heights [160,165,170,175,180], range is 180−160=20.\n",
    "\n",
    "## Variance: Average of squared differences from the mean. Measures overall variability.\n",
    "\n",
    "* Example: For [3,5,7,9], mean is 6 variance is is (9+1+1+9)/4=5\n",
    "\n",
    "## Standard Deviation: Square root of the variance. Indicates typical distance from the mean.\n",
    "\n",
    "* Example: Using the previous variance, standard deviation is 5​≈2.24.\n",
    "\n",
    "## Description:\n",
    "\n",
    "* Larger values indicate greater spread, smaller values suggest less variability.\n",
    "* Useful for understanding how data points cluster around the central tendency.\n",
    "* Helpful in comparing and interpreting the distribution of datasets.\n",
    "\n",
    "For example, if you are analyzing the test scores of two classes, Class A with a range of 40 and Class B with a range of 20, you can infer that the scores in Class A are more spread out than in Class B. Similarly, comparing standard deviations can provide insights into the consistency of performance within each class."
   ]
  },
  {
   "cell_type": "markdown",
   "id": "a1d3f05b",
   "metadata": {},
   "source": [
    "# Q6. What is a Venn diagram? "
   ]
  },
  {
   "cell_type": "markdown",
   "id": "33c48ad8",
   "metadata": {},
   "source": [
    "* A Venn diagram is a visual tool that uses overlapping circles or shapes to show the relationships between different sets or groups. "
   ]
  },
  {
   "cell_type": "markdown",
   "id": "bf53e8bf",
   "metadata": {},
   "source": [
    "# Q7. For the two given sets A = (2,3,4,5,6,7) & B = (0,2,6,8,10). Find: \n",
    "(i)  A B \n",
    "(ii) A ⋃ B \n"
   ]
  },
  {
   "cell_type": "code",
   "execution_count": 17,
   "id": "e75edfd1",
   "metadata": {},
   "outputs": [],
   "source": [
    "A = {2,3,4,5,6,7}  \n",
    "B = {0,2,6,8,10}"
   ]
  },
  {
   "cell_type": "code",
   "execution_count": 18,
   "id": "2bf34329",
   "metadata": {},
   "outputs": [
    {
     "data": {
      "text/plain": [
       "{2, 6}"
      ]
     },
     "execution_count": 18,
     "metadata": {},
     "output_type": "execute_result"
    }
   ],
   "source": [
    "A.intersection(B)"
   ]
  },
  {
   "cell_type": "code",
   "execution_count": 19,
   "id": "2b4c59e3",
   "metadata": {},
   "outputs": [
    {
     "data": {
      "text/plain": [
       "{0, 2, 3, 4, 5, 6, 7, 8, 10}"
      ]
     },
     "execution_count": 19,
     "metadata": {},
     "output_type": "execute_result"
    }
   ],
   "source": [
    "A.union(B)"
   ]
  },
  {
   "cell_type": "markdown",
   "id": "065e9333",
   "metadata": {},
   "source": [
    "# Q8. What do you understand about skewness in data? "
   ]
  },
  {
   "cell_type": "markdown",
   "id": "d28f7d6b",
   "metadata": {},
   "source": [
    "* Skewness in data tells us if the values are evenly spread or if they tend to cluster more on one side.\n",
    "\n",
    "* Negative Skewness (Left): The data leans more to the left; the average is smaller than the middle value.\n",
    "\n",
    "* Positive Skewness (Right): The data leans more to the right; the average is larger than the middle value.\n",
    "\n",
    "* Symmetrical Distribution: The data is evenly spread on both sides; the average and middle value are close."
   ]
  },
  {
   "cell_type": "markdown",
   "id": "172ca8bf",
   "metadata": {},
   "source": [
    "# Q9. If a data is right skewed then what will be the position of median with respect to mean? "
   ]
  },
  {
   "cell_type": "markdown",
   "id": "d2d3550d",
   "metadata": {},
   "source": [
    "* the mean is greater than the median in a right-skewed dataset"
   ]
  },
  {
   "cell_type": "markdown",
   "id": "98d8bf5d",
   "metadata": {},
   "source": [
    "# Q10. Explain the difference between covariance and correlation. How are these measures used in  statistical analysis? "
   ]
  },
  {
   "cell_type": "markdown",
   "id": "e2fd42a9",
   "metadata": {},
   "source": [
    "* Covariance: Measures how two variables change together.\n",
    "* Correlation: Standardized measure of the strength and direction of a linear relationship."
   ]
  },
  {
   "cell_type": "markdown",
   "id": "faca6492",
   "metadata": {},
   "source": [
    "Usage:\n",
    "\n",
    "## Covariance:\n",
    "\n",
    "Indicates direction of relationship.\n",
    "Positive: direct relationship; negative: inverse relationship.\n",
    "\n",
    "## Correlation:\n",
    "\n",
    "Standardized, facilitating comparison.\n",
    "0: no linear relationship; -1 or 1: perfect linear relationship.\n",
    "\n",
    "In analysis, correlation is often preferred for its standardized and easily interpretable nature. Both help explore relationships in data."
   ]
  },
  {
   "cell_type": "markdown",
   "id": "010ed93b",
   "metadata": {},
   "source": [
    "# Q11. What is the formula for calculating the sample mean? Provide an example calculation for a  dataset. "
   ]
  },
  {
   "cell_type": "markdown",
   "id": "89a8d0ba",
   "metadata": {},
   "source": [
    "_\n",
    "x=sum of all values/no of number\n",
    "\n",
    "Consider the dataset: \n",
    "\n",
    "[12,15,18,22,25]\n",
    "\n",
    "\n",
    "=(12+15+18+22+25)/5\n",
    "=92/5\n",
    "=18.4\n"
   ]
  },
  {
   "cell_type": "markdown",
   "id": "cc3aa8f6",
   "metadata": {},
   "source": [
    "# Q12. For a normal distribution data what is the relationship between its measure of central tendency?"
   ]
  },
  {
   "cell_type": "markdown",
   "id": "b5e8c16f",
   "metadata": {},
   "source": [
    " a normal distribution: \n",
    "Mean=Median=Mode"
   ]
  },
  {
   "cell_type": "markdown",
   "id": "9a6418a0",
   "metadata": {},
   "source": [
    "# Q13. How is covariance different from correlation? \n"
   ]
  },
  {
   "cell_type": "markdown",
   "id": "96e01dca",
   "metadata": {},
   "source": [
    "Covariance: Measures change together; not standardized.\n",
    "Correlation: Standardized measure of linear relationship\n",
    "\n",
    "Scale:\n",
    "\n",
    "Covariance: Not standardized; depends on variable scales.\n",
    "Correlation: Standardized; ranges from -1 to 1.\n",
    "Interpretation:\n",
    "\n",
    "Covariance: Magnitude not easily interpretable.\n",
    "Correlation: Easily interpretable; -1 or 1 is perfect correlation, 0 is no correlation.\n",
    "Units:\n",
    "\n",
    "Covariance: Unit is product of variable units.\n",
    "Correlation: Unitless."
   ]
  },
  {
   "cell_type": "markdown",
   "id": "1b811d51",
   "metadata": {},
   "source": [
    "# Q14. How do outliers affect measures of central tendency and dispersion? Provide an example. "
   ]
  },
  {
   "cell_type": "code",
   "execution_count": null,
   "id": "81b69214",
   "metadata": {},
   "outputs": [],
   "source": []
  },
  {
   "cell_type": "markdown",
   "id": "923f7b3e",
   "metadata": {},
   "source": [
    "Central Tendency:\n",
    "\n",
    "Mean: Sensitive to outliers; can be skewed.\n",
    "Median: Less affected by outliers; represents the middle value.\n",
    "Mode: Generally less influenced.\n",
    "Dispersion:\n",
    "\n",
    "Range: Affected by outliers; measures spread.\n",
    "Standard Deviation: Sensitive to outliers; can increase with extreme values.\n",
    "Example:\n",
    "Consider data: \n",
    "\n",
    "[15,20,22,18,25,90]\n",
    "\n",
    "Without Outlier:\n",
    "Mean: 20\n",
    "Median: 20\n",
    "Range: 10\n",
    "Standard Deviation: \n",
    "≈3.87\n",
    "With Outlier:\n",
    "Mean: 30\n",
    "Median: 21.5\n",
    "Range: 75\n",
    "Standard Deviation: \n",
    "≈11.78\n",
    "\n",
    "* Outliers can heavily impact mean and standard deviation, while median and range are more robust.\n",
    "\n",
    "\n",
    "\n",
    "\n",
    "\n"
   ]
  },
  {
   "cell_type": "code",
   "execution_count": null,
   "id": "4075e21d",
   "metadata": {},
   "outputs": [],
   "source": []
  },
  {
   "cell_type": "code",
   "execution_count": null,
   "id": "2920cce4",
   "metadata": {},
   "outputs": [],
   "source": []
  },
  {
   "cell_type": "code",
   "execution_count": null,
   "id": "21f1ede7",
   "metadata": {},
   "outputs": [],
   "source": []
  },
  {
   "cell_type": "code",
   "execution_count": null,
   "id": "a8770675",
   "metadata": {},
   "outputs": [],
   "source": []
  },
  {
   "cell_type": "code",
   "execution_count": null,
   "id": "eec64ddb",
   "metadata": {},
   "outputs": [],
   "source": []
  },
  {
   "cell_type": "code",
   "execution_count": null,
   "id": "681b09a5",
   "metadata": {},
   "outputs": [],
   "source": []
  },
  {
   "cell_type": "code",
   "execution_count": null,
   "id": "81c1b384",
   "metadata": {},
   "outputs": [],
   "source": []
  },
  {
   "cell_type": "code",
   "execution_count": null,
   "id": "96da8d18",
   "metadata": {},
   "outputs": [],
   "source": []
  },
  {
   "cell_type": "code",
   "execution_count": null,
   "id": "c8d22a52",
   "metadata": {},
   "outputs": [],
   "source": []
  },
  {
   "cell_type": "code",
   "execution_count": null,
   "id": "120517ab",
   "metadata": {},
   "outputs": [],
   "source": []
  },
  {
   "cell_type": "code",
   "execution_count": null,
   "id": "b6a95d39",
   "metadata": {},
   "outputs": [],
   "source": []
  },
  {
   "cell_type": "code",
   "execution_count": null,
   "id": "cb01871d",
   "metadata": {},
   "outputs": [],
   "source": []
  },
  {
   "cell_type": "code",
   "execution_count": null,
   "id": "bc24bd37",
   "metadata": {},
   "outputs": [],
   "source": []
  },
  {
   "cell_type": "code",
   "execution_count": null,
   "id": "5a607a4a",
   "metadata": {},
   "outputs": [],
   "source": []
  },
  {
   "cell_type": "code",
   "execution_count": null,
   "id": "e7608515",
   "metadata": {},
   "outputs": [],
   "source": []
  },
  {
   "cell_type": "code",
   "execution_count": null,
   "id": "09e42c24",
   "metadata": {},
   "outputs": [],
   "source": []
  },
  {
   "cell_type": "code",
   "execution_count": null,
   "id": "d225fbf5",
   "metadata": {},
   "outputs": [],
   "source": []
  },
  {
   "cell_type": "code",
   "execution_count": null,
   "id": "5a8f1899",
   "metadata": {},
   "outputs": [],
   "source": []
  },
  {
   "cell_type": "code",
   "execution_count": null,
   "id": "7f0d503c",
   "metadata": {},
   "outputs": [],
   "source": []
  },
  {
   "cell_type": "code",
   "execution_count": null,
   "id": "952f22a3",
   "metadata": {},
   "outputs": [],
   "source": []
  },
  {
   "cell_type": "code",
   "execution_count": null,
   "id": "b013cae4",
   "metadata": {},
   "outputs": [],
   "source": []
  },
  {
   "cell_type": "code",
   "execution_count": null,
   "id": "1f33b495",
   "metadata": {},
   "outputs": [],
   "source": []
  },
  {
   "cell_type": "code",
   "execution_count": null,
   "id": "a902da7a",
   "metadata": {},
   "outputs": [],
   "source": []
  },
  {
   "cell_type": "code",
   "execution_count": null,
   "id": "fdbc36ad",
   "metadata": {},
   "outputs": [],
   "source": []
  }
 ],
 "metadata": {
  "kernelspec": {
   "display_name": "Python 3 (ipykernel)",
   "language": "python",
   "name": "python3"
  },
  "language_info": {
   "codemirror_mode": {
    "name": "ipython",
    "version": 3
   },
   "file_extension": ".py",
   "mimetype": "text/x-python",
   "name": "python",
   "nbconvert_exporter": "python",
   "pygments_lexer": "ipython3",
   "version": "3.9.7"
  }
 },
 "nbformat": 4,
 "nbformat_minor": 5
}
