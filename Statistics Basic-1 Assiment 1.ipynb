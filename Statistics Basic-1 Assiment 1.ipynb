{
 "cells": [
  {
   "cell_type": "markdown",
   "id": "ace2b2e7",
   "metadata": {},
   "source": [
    "# Q1 What is Statistics?\n",
    "\n"
   ]
  },
  {
   "cell_type": "markdown",
   "id": "3e0f7f8c",
   "metadata": {},
   "source": [
    "Statistics is the study of data—collecting, analyzing, interpreting, and presenting information. It involves methods for summarizing and making sense of numerical information, aiding decision-making in diverse fields."
   ]
  },
  {
   "cell_type": "markdown",
   "id": "af9104a4",
   "metadata": {},
   "source": [
    "# Q2. Define the different types of statistics and give an example of when each type might be used."
   ]
  },
  {
   "cell_type": "markdown",
   "id": "02d4628d",
   "metadata": {},
   "source": [
    "## Descriptive Statistics:\n",
    "\n",
    "* Definition: `Summarizes and describes data using measures like mean, median, mode, and standard deviation.`\n",
    "* Example: Calculating the average height of students in a class.\n",
    "## Inferential Statistics:\n",
    "\n",
    "* Definition: `Uses sample data to make predictions or inferences about a larger population.`\n",
    "* Example: Conducting a survey on a subset of voters to predict election outcomes for the entire population."
   ]
  },
  {
   "cell_type": "markdown",
   "id": "13db5a88",
   "metadata": {},
   "source": [
    "# Q3.  What are the different types of data and how do they differ from each other? Provide an example of each type of data."
   ]
  },
  {
   "cell_type": "markdown",
   "id": "9d042308",
   "metadata": {},
   "source": [
    "## Qualitative Data:\n",
    "\n",
    "* Definition: Describes qualities or characteristics.\n",
    "* Example: Colors of flowers (e.g., red, yellow, blue).\n",
    "\n",
    "## Quantitative Data:\n",
    "\n",
    "* Definition: Consists of numerical values.\n",
    "* Example: Heights of students (e.g., 150 cm, 170 cm)."
   ]
  },
  {
   "cell_type": "code",
   "execution_count": null,
   "id": "11f371b0",
   "metadata": {},
   "outputs": [],
   "source": [
    "Q4. Categorise the following datasets with respect to quantitative and qualitative data types:\n",
    "\n",
    "(i)\tGrading in exam: A+, A, B+, B, C+, C, D, E\n",
    "\n",
    "(ii)\tColour of mangoes: yellow, green, orange, red\n",
    "\n",
    "(iii)\tHeight data of a class: [178.9, 179, 179.5, 176, 177.2, 178.3, 175.8,...]\n",
    "\n",
    "(iv)\tNumber of mangoes exported by a farm: [500, 600, 478, 672, …]"
   ]
  },
  {
   "cell_type": "code",
   "execution_count": null,
   "id": "50ee5bea",
   "metadata": {},
   "outputs": [],
   "source": [
    "(i)qualitative\n",
    "(ii)qualitative\n",
    "(iii)quantitative\n",
    "(iv)quantitative"
   ]
  },
  {
   "cell_type": "markdown",
   "id": "887bc970",
   "metadata": {},
   "source": [
    "# Q5. Explain the concept of levels of measurement and give an example of a variable for each level."
   ]
  },
  {
   "cell_type": "markdown",
   "id": "99ba9b7a",
   "metadata": {},
   "source": [
    "### Nominal Level:\n",
    "\n",
    "* Example: Colors of flowers (red, blue, yellow).\n",
    "\n",
    "### Ordinal Level:\n",
    "\n",
    "* Example: Education levels (high school, bachelor's, master's).\n",
    "\n",
    "### Interval Level:\n",
    "\n",
    "* Example: Temperature in Celsius or Fahrenheit.\n",
    "\n",
    "### Ratio Level:\n",
    "\n",
    "* Example: Height in centimeters, weight in kilograms."
   ]
  },
  {
   "cell_type": "markdown",
   "id": "ff13de37",
   "metadata": {},
   "source": [
    "# Q6. Why is it important to understand the level of measurement when analyzing data? Provide an example to illustrate your answer."
   ]
  },
  {
   "cell_type": "markdown",
   "id": "a2fd534c",
   "metadata": {},
   "source": [
    "Knowing the level of measurement helps you use the right math and methods. If you mix up types, like treating colors as if they were numbers, your analysis might not make sense. It's like trying to average colors - it just doesn't work"
   ]
  },
  {
   "cell_type": "markdown",
   "id": "14dfbc64",
   "metadata": {},
   "source": [
    "# Q7. How nominal data type is different from ordinal data type"
   ]
  },
  {
   "cell_type": "markdown",
   "id": "025c0d0f",
   "metadata": {},
   "source": [
    "Nominal data is like different types or categories without any order, such as colors. Ordinal data has categories with a meaningful order, like rankings."
   ]
  },
  {
   "cell_type": "markdown",
   "id": "44b05fe0",
   "metadata": {},
   "source": [
    "# Q8. Which type of plot can be used to display data in terms of range?"
   ]
  },
  {
   "cell_type": "markdown",
   "id": "27f82302",
   "metadata": {},
   "source": [
    "A box plot, also known as a box-and-whisker plot, is commonly used to display data in terms of range"
   ]
  },
  {
   "cell_type": "markdown",
   "id": "18179284",
   "metadata": {},
   "source": [
    "# Q9. Describe the difference between descriptive and inferential statistics. Give an example of each type of statistics and explain how they are used"
   ]
  },
  {
   "cell_type": "markdown",
   "id": "5807b999",
   "metadata": {},
   "source": [
    "## Descriptive Statistics:\n",
    "\n",
    "* Summarizes and presents data.\n",
    "* Example: Average height of students in a class.\n",
    "\n",
    "## Inferential Statistics:\n",
    "\n",
    "* Makes predictions about a population based on a sample.\n",
    "* Example: Predicting election outcomes using a voter survey.\n",
    "\n",
    "How They Are Used:\n",
    "\n",
    "* Descriptive Statistics: Simplifies data to show patterns.\n",
    "\n",
    "* Inferential Statistics: Uses a sample to predict or generalize about a larger group."
   ]
  },
  {
   "cell_type": "markdown",
   "id": "56009b79",
   "metadata": {},
   "source": [
    "# Q10. What are some common measures of central tendency and variability used in statistics? Explain how each measure can be used to describe a dataset."
   ]
  },
  {
   "cell_type": "markdown",
   "id": "9b9a869f",
   "metadata": {},
   "source": [
    "## Mean:\n",
    "\n",
    "* Average value.\n",
    "* Use: Represents the typical value.\n",
    "\n",
    "## Median:\n",
    "\n",
    "* Middle value.\n",
    "* Use: Resistant to extreme values.\n",
    "\n",
    "## Mode:\n",
    "\n",
    "* Most frequent value.\n",
    "* Use: Identifies common values.\n",
    "\n",
    "# Measures of Variability:\n",
    "\n",
    "## Range:\n",
    "\n",
    "* Difference between max and min.\n",
    "* Use: Shows overall data spread.\n",
    "\n",
    "## Variance:\n",
    "\n",
    "* Average of squared differences.\n",
    "* Use: Quantifies overall variability.\n",
    "## Standard Deviation:\n",
    "*  Square root of variance.\n",
    "* Use: Provides interpretable variability.\n",
    "\n",
    "\n",
    "\n",
    "\n"
   ]
  },
  {
   "cell_type": "code",
   "execution_count": null,
   "id": "5d37e860",
   "metadata": {},
   "outputs": [],
   "source": []
  },
  {
   "cell_type": "code",
   "execution_count": null,
   "id": "1ea89af7",
   "metadata": {},
   "outputs": [],
   "source": []
  }
 ],
 "metadata": {
  "kernelspec": {
   "display_name": "Python 3 (ipykernel)",
   "language": "python",
   "name": "python3"
  },
  "language_info": {
   "codemirror_mode": {
    "name": "ipython",
    "version": 3
   },
   "file_extension": ".py",
   "mimetype": "text/x-python",
   "name": "python",
   "nbconvert_exporter": "python",
   "pygments_lexer": "ipython3",
   "version": "3.9.7"
  }
 },
 "nbformat": 4,
 "nbformat_minor": 5
}
