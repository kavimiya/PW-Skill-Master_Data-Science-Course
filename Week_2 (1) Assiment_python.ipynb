{
 "cells": [
  {
   "cell_type": "markdown",
   "id": "d18f049d",
   "metadata": {},
   "source": [
    "# Q1. Which keyword is used to create a function? Create a function to return a list of odd numbers in the range of 1 to 25."
   ]
  },
  {
   "cell_type": "code",
   "execution_count": 1,
   "id": "ece3af55",
   "metadata": {},
   "outputs": [],
   "source": [
    "def odd(n,p):\n",
    "    for i in range(n,p):\n",
    "        if i%2==0:\n",
    "            print(i)"
   ]
  },
  {
   "cell_type": "code",
   "execution_count": 2,
   "id": "9d70a415",
   "metadata": {},
   "outputs": [
    {
     "name": "stdout",
     "output_type": "stream",
     "text": [
      "2\n",
      "4\n",
      "6\n",
      "8\n",
      "10\n",
      "12\n",
      "14\n",
      "16\n",
      "18\n",
      "20\n",
      "22\n",
      "24\n"
     ]
    }
   ],
   "source": [
    "odd(1,25)"
   ]
  },
  {
   "cell_type": "markdown",
   "id": "c29e8f1a",
   "metadata": {},
   "source": [
    "# Q2. Why **args and **kwargs is used in some functions? Create a function each for **args and ***kwargs to 1demonstrate their use."
   ]
  },
  {
   "cell_type": "markdown",
   "id": "a1ff51ce",
   "metadata": {},
   "source": [
    "\n",
    "* *args (Non-Keyword Arguments)\n",
    "* **kwargs (Keyword Arguments)\n"
   ]
  },
  {
   "cell_type": "code",
   "execution_count": 32,
   "id": "e5cbd9ff",
   "metadata": {},
   "outputs": [],
   "source": [
    "def new(*a,**b):\n",
    "    print('This a *args:')\n",
    "    for i in a:\n",
    "        print(i,end=' ')\n",
    "    print('\\nThis a **kwargs:')\n",
    "    for x,y in b.items():\n",
    "        print(f'Key:',{x}, 'value:',{y})"
   ]
  },
  {
   "cell_type": "code",
   "execution_count": 33,
   "id": "11a01782",
   "metadata": {},
   "outputs": [
    {
     "name": "stdout",
     "output_type": "stream",
     "text": [
      "This a *args:\n",
      "1 23 4 5 68 8 \n",
      "This a **kwargs:\n",
      "Key: {'a'} value: {66}\n",
      "Key: {'b'} value: {44}\n"
     ]
    }
   ],
   "source": [
    "\n",
    "new(1,23,4,5,68,8,a=66,b=44)"
   ]
  },
  {
   "cell_type": "markdown",
   "id": "a34da147",
   "metadata": {},
   "source": [
    "# Q3.  What is an iterator in python? Name the method used to initialise the iterator object and the method used for iteration. Use these methods to print the first five elements of the given list [2, 4, 6, 8, 10, 12, 14, 16,18, 20]."
   ]
  },
  {
   "cell_type": "markdown",
   "id": "86362182",
   "metadata": {},
   "source": [
    "iterator is an object that contains a countable number of values."
   ]
  },
  {
   "cell_type": "code",
   "execution_count": 7,
   "id": "aa92c5c4",
   "metadata": {},
   "outputs": [],
   "source": [
    "a=[2,4,6, 8, 10, 12, 14, 16,18, 20]"
   ]
  },
  {
   "cell_type": "code",
   "execution_count": 10,
   "id": "bd322186",
   "metadata": {},
   "outputs": [],
   "source": [
    "ab=iter(a)"
   ]
  },
  {
   "cell_type": "code",
   "execution_count": 11,
   "id": "c1463427",
   "metadata": {},
   "outputs": [
    {
     "name": "stdout",
     "output_type": "stream",
     "text": [
      "2\n",
      "4\n",
      "6\n",
      "8\n",
      "10\n"
     ]
    }
   ],
   "source": [
    "for i in range(5):\n",
    "    print(next(ab))"
   ]
  },
  {
   "cell_type": "markdown",
   "id": "e98fde5d",
   "metadata": {},
   "source": [
    "# Q4.  What is a generator function in python? Why yield keyword is used? Give an example of a generator function."
   ]
  },
  {
   "cell_type": "markdown",
   "id": "ab0888de",
   "metadata": {},
   "source": [
    "* Generators are useful when we want to produce a `large sequence of values`, but we `don't want to store all of them in memory at once`.\n",
    "* Here, the `yield keyword is used to produce a value from the generator`.\n",
    "* When the generator function is called, it `does not execute the function body immediately`. Instead, it `returns a generator object that can be iterated over to produce the values`."
   ]
  },
  {
   "cell_type": "code",
   "execution_count": 12,
   "id": "fbb98f8a",
   "metadata": {},
   "outputs": [],
   "source": [
    "def helo(n):\n",
    "    for i in range(n):\n",
    "        yield(i)"
   ]
  },
  {
   "cell_type": "code",
   "execution_count": 14,
   "id": "5c852ea7",
   "metadata": {},
   "outputs": [
    {
     "name": "stdout",
     "output_type": "stream",
     "text": [
      "0\n",
      "1\n",
      "2\n",
      "3\n",
      "4\n",
      "5\n"
     ]
    }
   ],
   "source": [
    "for i in helo(6):\n",
    "    print(i)"
   ]
  },
  {
   "cell_type": "markdown",
   "id": "f161abcc",
   "metadata": {},
   "source": [
    "# Q5. Create a generator function for prime numbers less than 1000. Use the next() method to print the first 20 prime numbers."
   ]
  },
  {
   "cell_type": "code",
   "execution_count": 15,
   "id": "e099b792",
   "metadata": {},
   "outputs": [],
   "source": [
    "def pri(n):\n",
    "    a,b=0,1\n",
    "    for i in range(n):\n",
    "        yield(a)\n",
    "        a,b=b,a+b"
   ]
  },
  {
   "cell_type": "code",
   "execution_count": 30,
   "id": "6b4dd171",
   "metadata": {},
   "outputs": [],
   "source": [
    "a=pri(1000)\n",
    "    "
   ]
  },
  {
   "cell_type": "code",
   "execution_count": 31,
   "id": "c20cf27e",
   "metadata": {},
   "outputs": [
    {
     "name": "stdout",
     "output_type": "stream",
     "text": [
      "01\n",
      "12\n",
      "13\n",
      "24\n",
      "35\n",
      "56\n",
      "87\n",
      "138\n",
      "219\n",
      "3410\n",
      "5511\n",
      "8912\n",
      "14413\n",
      "23314\n",
      "37715\n",
      "61016\n",
      "98717\n",
      "159718\n",
      "258419\n",
      "418120\n"
     ]
    }
   ],
   "source": [
    "for i in range(1,21):\n",
    "    print(next(a))"
   ]
  },
  {
   "cell_type": "code",
   "execution_count": null,
   "id": "bd013966",
   "metadata": {},
   "outputs": [],
   "source": []
  },
  {
   "cell_type": "code",
   "execution_count": null,
   "id": "4e57febc",
   "metadata": {},
   "outputs": [],
   "source": []
  },
  {
   "cell_type": "code",
   "execution_count": null,
   "id": "37726aab",
   "metadata": {},
   "outputs": [],
   "source": []
  },
  {
   "cell_type": "code",
   "execution_count": null,
   "id": "776ea607",
   "metadata": {},
   "outputs": [],
   "source": []
  },
  {
   "cell_type": "code",
   "execution_count": null,
   "id": "32d40245",
   "metadata": {},
   "outputs": [],
   "source": []
  },
  {
   "cell_type": "code",
   "execution_count": null,
   "id": "96af5fc0",
   "metadata": {},
   "outputs": [],
   "source": []
  },
  {
   "cell_type": "code",
   "execution_count": null,
   "id": "565ee86f",
   "metadata": {},
   "outputs": [],
   "source": []
  },
  {
   "cell_type": "code",
   "execution_count": null,
   "id": "81d588ac",
   "metadata": {},
   "outputs": [],
   "source": []
  }
 ],
 "metadata": {
  "kernelspec": {
   "display_name": "Python 3 (ipykernel)",
   "language": "python",
   "name": "python3"
  },
  "language_info": {
   "codemirror_mode": {
    "name": "ipython",
    "version": 3
   },
   "file_extension": ".py",
   "mimetype": "text/x-python",
   "name": "python",
   "nbconvert_exporter": "python",
   "pygments_lexer": "ipython3",
   "version": "3.9.7"
  }
 },
 "nbformat": 4,
 "nbformat_minor": 5
}
