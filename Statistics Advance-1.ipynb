{
 "cells": [
  {
   "cell_type": "markdown",
   "id": "0343cfdd",
   "metadata": {},
   "source": [
    "# Q1. What is the Probability density function?"
   ]
  },
  {
   "cell_type": "markdown",
   "id": "eebc431e",
   "metadata": {},
   "source": [
    "The Probability Density Function (PDF) is a mathematical function that describes the likelihood of a continuous random variable falling within a specific range of values. It is non-negative, and the total area under the curve is always equal to 1. The PDF is used to calculate the probability of a variable taking on a particular value or falling within a given interval."
   ]
  },
  {
   "cell_type": "markdown",
   "id": "2001ccda",
   "metadata": {},
   "source": [
    "# Q2. What are the types of Probability distribution?"
   ]
  },
  {
   "cell_type": "markdown",
   "id": "65a7ff8b",
   "metadata": {},
   "source": [
    "* Discrete Probability Distributions\n",
    "* Continuous Probability Distributions:"
   ]
  },
  {
   "cell_type": "markdown",
   "id": "bcd5b874",
   "metadata": {},
   "source": [
    "# Q3. Write a Python function to calculate the probability density function of a normal distribution with given mean and standard deviation at a given point."
   ]
  },
  {
   "cell_type": "code",
   "execution_count": 3,
   "id": "2948ce40",
   "metadata": {},
   "outputs": [
    {
     "name": "stderr",
     "output_type": "stream",
     "text": [
      "D:\\New folder\\lib\\site-packages\\scipy\\__init__.py:146: UserWarning: A NumPy version >=1.16.5 and <1.23.0 is required for this version of SciPy (detected version 1.26.0\n",
      "  warnings.warn(f\"A NumPy version >={np_minversion} and <{np_maxversion}\"\n"
     ]
    },
    {
     "name": "stdout",
     "output_type": "stream",
     "text": [
      "The PDF at x = 1.5 is: 0.12951759566589174\n"
     ]
    }
   ],
   "source": [
    "from scipy.stats import norm\n",
    "\n",
    "def normal_pdf(x, mean, std_dev):\n",
    "    pdf = norm.pdf(x, loc=mean, scale=std_dev)\n",
    "    return pdf\n",
    "\n",
    "# Example usage:\n",
    "mean_value = 0\n",
    "std_dev_value = 1\n",
    "point = 1.5\n",
    "result = normal_pdf(point, mean_value, std_dev_value)\n",
    "print(f\"The PDF at x = {point} is: {result}\")\n"
   ]
  },
  {
   "cell_type": "markdown",
   "id": "1370b028",
   "metadata": {},
   "source": [
    "# Q4. What are the properties of Binomial distribution? Give two examples of events where binomial distribution can be applied"
   ]
  },
  {
   "cell_type": "markdown",
   "id": "5cf3c947",
   "metadata": {},
   "source": [
    "The binomial distribution is a discrete probability distribution that models the number of successes in a fixed number of independent and identical Bernoulli trials"
   ]
  },
  {
   "cell_type": "markdown",
   "id": "7861b1bd",
   "metadata": {},
   "source": [
    "Coin Flipping: Modeling the number of heads in n coin flips.\n",
    "Quality Control: Modeling the number of defective items in a sample of n products."
   ]
  },
  {
   "cell_type": "code",
   "execution_count": null,
   "id": "5e1fd446",
   "metadata": {},
   "outputs": [],
   "source": []
  },
  {
   "cell_type": "markdown",
   "id": "c430fd97",
   "metadata": {},
   "source": [
    "# Q5. Generate a random sample of size 1000 from a binomial distribution with probability of success 0.4 and plot a histogram of the results using matplotlib."
   ]
  },
  {
   "cell_type": "code",
   "execution_count": 6,
   "id": "3bd272ac",
   "metadata": {},
   "outputs": [
    {
     "data": {
      "image/png": "[encoded data removed]",
      "text/plain": [
       "<Figure size 432x288 with 1 Axes>"
      ]
     },
     "metadata": {
      "needs_background": "light"
     },
     "output_type": "display_data"
    }
   ],
   "source": [
    "import numpy as np\n",
    "import matplotlib.pyplot as plt\n",
    "\n",
    "# Set the parameters\n",
    "prob_success = 0.4\n",
    "sample_size = 1000\n",
    "\n",
    "# Generate random sample from binomial distribution\n",
    "random_sample = np.random.binomial(n=1, p=prob_success, size=sample_size)\n",
    "\n",
    "# Plot histogram\n",
    "plt.hist(random_sample, edgecolor='black')  # Assuming the outcomes are 0 and 1\n",
    "plt.title('Binomial Distribution Random Sample')\n",
    "plt.xlabel('Outcome')\n",
    "plt.ylabel('Frequency')\n",
    "plt.show()\n"
   ]
  },
  {
   "cell_type": "markdown",
   "id": "9c0e8fb9",
   "metadata": {},
   "source": [
    "# Q6. Write a Python function to calculate the cumulative distribution function of a Poisson distribution with given mean at a given point."
   ]
  },
  {
   "cell_type": "code",
   "execution_count": 7,
   "id": "c6d673a8",
   "metadata": {},
   "outputs": [
    {
     "name": "stdout",
     "output_type": "stream",
     "text": [
      "The CDF at k = 3 is: 0.7575761331330662\n"
     ]
    }
   ],
   "source": [
    "from scipy.stats import poisson\n",
    "\n",
    "def calculate_poisson_cdf(k, mean):\n",
    "    cdf = poisson.cdf(k, mu=mean)\n",
    "    return cdf\n",
    "\n",
    "# Example usage:\n",
    "mean_value = 2.5\n",
    "point = 3\n",
    "result = calculate_poisson_cdf(point, mean_value)\n",
    "print(f\"The CDF at k = {point} is: {result}\")\n"
   ]
  },
  {
   "cell_type": "markdown",
   "id": "124f3d01",
   "metadata": {},
   "source": [
    "# Q7. How Binomial distribution different from Poisson distribution?"
   ]
  },
  {
   "cell_type": "markdown",
   "id": "4fdd18b6",
   "metadata": {},
   "source": [
    "* Binomial is for a fixed number of discrete trials with a constant success probability.\n",
    "* Poisson is for events occurring continuously over time or space with an average rate."
   ]
  },
  {
   "cell_type": "markdown",
   "id": "4f5373fe",
   "metadata": {},
   "source": [
    "# Q8. Generate a random sample of size 1000 from a Poisson distribution with mean 5 and calculate the sample mean and variance."
   ]
  },
  {
   "cell_type": "code",
   "execution_count": 8,
   "id": "39b24a75",
   "metadata": {},
   "outputs": [
    {
     "name": "stdout",
     "output_type": "stream",
     "text": [
      "Sample Mean: 5.024\n",
      "Sample Variance: 5.117423999999999\n"
     ]
    }
   ],
   "source": [
    "import numpy as np\n",
    "\n",
    "# Set the parameters\n",
    "mean_value = 5\n",
    "sample_size = 1000\n",
    "\n",
    "# Generate random sample from Poisson distribution\n",
    "random_sample = np.random.poisson(lam=mean_value, size=sample_size)\n",
    "\n",
    "# Calculate sample mean and variance\n",
    "sample_mean = np.mean(random_sample)\n",
    "sample_variance = np.var(random_sample)\n",
    "\n",
    "# Print the results\n",
    "print(f\"Sample Mean: {sample_mean}\")\n",
    "print(f\"Sample Variance: {sample_variance}\")\n"
   ]
  },
  {
   "cell_type": "markdown",
   "id": "adaabc25",
   "metadata": {},
   "source": [
    "# Q9. How mean and variance are related in Binomial distribution and Poisson distribution?"
   ]
  },
  {
   "cell_type": "markdown",
   "id": "220be862",
   "metadata": {},
   "source": [
    "a higher mean or average rate leads to a higher variance. For the binomial, variance depends on both the number of trials (n) and the probability of success (p), while for the Poisson, variance is solely determined by the average rate (λ)."
   ]
  },
  {
   "cell_type": "markdown",
   "id": "9753d6f0",
   "metadata": {},
   "source": [
    "# Q10. In normal distribution with respect to mean position, where does the least frequent data appear?"
   ]
  },
  {
   "cell_type": "markdown",
   "id": "e47bfe97",
   "metadata": {},
   "source": [
    "In a normal distribution, the least frequent data appears in the tails, farthest from the mean. The central part, close to the mean, contains the most frequent data.\n",
    "\n",
    "\n",
    "\n",
    "\n",
    "\n"
   ]
  },
  {
   "cell_type": "code",
   "execution_count": null,
   "id": "5e0bb430",
   "metadata": {},
   "outputs": [],
   "source": []
  },
  {
   "cell_type": "code",
   "execution_count": null,
   "id": "408c0861",
   "metadata": {},
   "outputs": [],
   "source": []
  }
 ],
 "metadata": {
  "kernelspec": {
   "display_name": "Python 3 (ipykernel)",
   "language": "python",
   "name": "python3"
  },
  "language_info": {
   "codemirror_mode": {
    "name": "ipython",
    "version": 3
   },
   "file_extension": ".py",
   "mimetype": "text/x-python",
   "name": "python",
   "nbconvert_exporter": "python",
   "pygments_lexer": "ipython3",
   "version": "3.9.7"
  }
 },
 "nbformat": 4,
 "nbformat_minor": 5
}
