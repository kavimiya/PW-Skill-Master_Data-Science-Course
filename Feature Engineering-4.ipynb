{
 "cells": [
  {
   "cell_type": "markdown",
   "id": "d939ddbb-c17e-4dfb-bd0e-6752e99de5b3",
   "metadata": {},
   "source": [
    "# Q1. What is data encoding? How is it useful in data science?"
   ]
  },
  {
   "cell_type": "markdown",
   "id": "5f61859a-719d-4e71-bc24-315000e5c360",
   "metadata": {},
   "source": [
    "## Label Encoding:\n",
    "\n",
    "* Assigns a unique integer to each category in a feature.\n",
    "## Example: \n",
    "* If a feature has values like ['red', 'blue', 'green'], label encoding might map them to [0, 1, 2].\n",
    "* Suitable for ordinal variables where the categories have a logical order.\n",
    "\n",
    "## One-Hot Encoding:\n",
    "\n",
    "* Converts each category into a new binary column. Each row gets a 1 in the column that corresponds to the category.\n",
    "\n",
    "## Example: \n",
    "* If the original feature is ['red', 'blue', 'green'], one-hot encoding creates three binary columns like [1, 0, 0], [0, 1, 0], and [0, 0, 1].\n",
    "* Used for nominal variables where categories have no ordinal relationship.\n",
    "\n",
    "## Binary Encoding:\n",
    "\n",
    "* Converts categories into binary code, and then each bit of the binary code is represented as a column.\n",
    "* More space-efficient than one-hot encoding for features with many categories.\n",
    "\n",
    "## Target Encoding:\n",
    "\n",
    "* Replaces categorical variables with the mean of the target variable for each category.\n",
    "* Often used for high-cardinality categorical variables, particularly in regression problems.\n",
    "\n",
    "## Frequency Encoding:\n",
    "\n",
    "* Replaces categories with their frequency or count in the dataset.\n",
    "\n",
    "## Usefulness in Data Science\n",
    "### Compatibility with Algorithms: \n",
    "* Many machine learning algorithms (like regression, SVM, and tree-based models) only accept numerical inputs. Data encoding ensures that categorical data can be used in these algorithms.\n",
    "\n",
    "### Improved Model Performance: \n",
    "* Proper encoding can capture important relationships in categorical data. For example, one-hot encoding preserves all the information about the categories, and target encoding can help handle large cardinality.\n",
    "\n",
    "## Reduction of Information Loss:\n",
    "* By choosing the correct encoding technique, you can minimize information loss and bias, particularly in cases where the categories have a specific order or relationship."
   ]
  },
  {
   "cell_type": "markdown",
   "id": "e5c1e3e6-0fa8-4b95-bc2c-95257d202dd6",
   "metadata": {},
   "source": [
    "# Q2. What is nominal encoding? Provide an example of how you would use it in a real-world scenario."
   ]
  },
  {
   "cell_type": "code",
   "execution_count": null,
   "id": "5e14aea5-9aa8-45ef-9179-dfb92feddfb1",
   "metadata": {},
   "outputs": [],
   "source": [
    " *Nominal encoding is a method used to convert categorical data that has no inherent order (like colors or brands) into a numerical format so that machine learning models can use it.\n",
    "\n",
    "## Example:\n",
    "* Imagine we have data about people's favorite colors:\n",
    "\n",
    "\n",
    "Person   Favorite_Color\n",
    "1        Red\n",
    "2        Blue\n",
    "3        Green\n",
    "4        Red\n",
    "5        Yellow\n",
    "\n",
    "## One-Hot Encoding:\n",
    "* One of the simplest methods of encoding is One-Hot Encoding. It converts each unique category (color) into separate columns, with a 1 indicating the color and 0 otherwise.\n",
    "\n",
    "## After encoding, the data looks like this:\n",
    "\n",
    "\n",
    "Person   Red   Blue   Green   Yellow\n",
    "1        1     0      0       0\n",
    "2        0     1      0       0\n",
    "3        0     0      1       0\n",
    "4        1     0      0       0\n",
    "5        0     0      0       1"
   ]
  },
  {
   "cell_type": "markdown",
   "id": "03a582f4-3037-4e83-9282-de04ec047ae5",
   "metadata": {},
   "source": [
    "# Q3. In what situations is nominal encoding preferred over one-hot encoding? Provide a practical example."
   ]
  },
  {
   "cell_type": "code",
   "execution_count": null,
   "id": "63b29991-430a-49e1-95c9-f5e7cb882c9c",
   "metadata": {},
   "outputs": [],
   "source": [
    "* Nominal encoding, such as Label Encoding, is preferred over One-Hot Encoding in situations where:\n",
    "\n",
    "## There are many unique categories: \n",
    "* If a feature has a large number of unique categories, one-hot encoding will create too many columns, making the dataset very sparse (many zeros). Nominal encoding can be more efficient in such cases.\n",
    "\n",
    "## Memory or computational efficiency is a concern: \n",
    "    * When dealing with limited resources or large datasets, nominal encoding reduces the number of columns, using less memory and speeding up the model training process.\n",
    "\n",
    "## Practical Example:\n",
    "* Let's say you work with an online shopping dataset, and one of the features is \"Country\", representing where each customer is from. You have 100 different countries in the dataset.\n",
    "\n",
    "## Why use Nominal Encoding (Label Encoding):\n",
    "* If you apply One-Hot Encoding to the \"Country\" feature, it will create 100 new columns, one for each country. This can be inefficient, especially if you have limited computing resources or a very large dataset.\n",
    "\n",
    "Instead, with Nominal Encoding (Label Encoding), you can assign each country a unique number. For example:\n",
    "\n",
    "\n",
    "Country     Encoded_Value\n",
    "USA         0\n",
    "India       1\n",
    "Brazil      2\n",
    "Canada      3\n",
    "The dataset would look like this after encoding:\n",
    "\n",
    "\n",
    "Person   Country_Encoded\n",
    "1        0\n",
    "2        1\n",
    "3        2\n",
    "4        3\n",
    "When to use it:\n",
    "High-cardinality features (features with many unique values), like country names, product IDs, or zip codes.\n",
    "Memory efficiency and simplicity are important."
   ]
  },
  {
   "cell_type": "markdown",
   "id": "cec76d31-9867-4507-be32-edd15c3e5f4f",
   "metadata": {},
   "source": [
    "# Q4. Suppose you have a dataset containing categorical data with 5 unique values. Which encoding technique would you use to transform this data into a format suitable for machine learning algorithms? Explain why you made this choice."
   ]
  },
  {
   "cell_type": "code",
   "execution_count": null,
   "id": "727cbfee-58a6-4f0f-b3bb-9ab7f4ff8975",
   "metadata": {},
   "outputs": [],
   "source": [
    "* If you have a dataset with 5 unique categories, the best choice would usually be One-Hot Encoding.\n",
    "\n",
    "## Why use One-Hot Encoding?\n",
    "* No order between categories: If the categories don’t have a natural order, One-Hot Encoding is the best choice because it turns each category into a separate column with a value of 1 or 0.\n",
    "\n",
    "## Only 5 categories: \n",
    "* Since there are only 5 unique values, One-Hot Encoding won’t create too many columns, so it’s easy to manage and won’t slow down the model.\n",
    "\n",
    "## Example:\n",
    "* Imagine a column called \"Fruit\" with these 5 values:\n",
    "\n",
    "\n",
    "Fruit: ['Apple', 'Banana', 'Orange', 'Grapes', 'Mango']\n",
    "\n",
    "## Using One-Hot Encoding, it becomes:\n",
    "\n",
    "\n",
    "Apple  Banana  Orange  Grapes  Mango\n",
    "  1      0       0       0       0\n",
    "  0      1       0       0       0\n",
    "  0      0       1       0       0\n",
    "  0      0       0       1       0\n",
    "  0      0       0       0       1\n",
    "\n",
    "* Each fruit is now represented as a separate column with binary values (1 or 0), which the machine learning model can understand better."
   ]
  },
  {
   "cell_type": "markdown",
   "id": "a5137f9c-4383-4e28-8597-0dc71a1c55f2",
   "metadata": {},
   "source": [
    "# Q5. In a machine learning project, you have a dataset with 1000 rows and 5 columns. Two of the columns are categorical, and the remaining three columns are numerical. If you were to use nominal encoding to transform the categorical data, how many new columns would be created? Show your calculations."
   ]
  },
  {
   "cell_type": "code",
   "execution_count": null,
   "id": "8658ef1d-16f3-4888-9f39-22a777e6be77",
   "metadata": {},
   "outputs": [],
   "source": [
    "* To calculate how many new columns would be created using nominal encoding (like One-Hot Encoding) for the categorical data, follow these steps:\n",
    "\n",
    "## Given:\n",
    "* Total rows: 1000\n",
    "* Total columns: 5\n",
    "* Categorical columns: 2\n",
    "* Numerical columns: 3 (these won’t change after encoding)\n",
    "\n",
    "## Steps:\n",
    "## Identify the unique values in each categorical column: Let's assume:\n",
    "\n",
    "* Column 1 (Categorical) has 4 unique values.\n",
    "* Column 2 (Categorical) has 3 unique values.\n",
    "\n",
    "    ## Apply One-Hot Encoding:\n",
    "\n",
    "* For Column 1, One-Hot Encoding will create 4 new columns (one for each unique value).\n",
    "* For Column 2, One-Hot Encoding will create 3 new columns (one for each unique value).\n",
    "\n",
    "                                                            \n",
    "## Total new columns:\n",
    "* Column 1: 4 new columns\n",
    "* Column 2: 3 new columns\n",
    "* So, in total, 4 + 3 = 7 new columns will be created from the two categorical columns.\n",
    "\n",
    "## Final Calculation:\n",
    "* After encoding, you will have:\n",
    "* 3 numerical columns (unchanged)\n",
    "* 7 new columns from the categorical data\n",
    "* Thus, the dataset will have 3 (numerical) + 7 (encoded categorical) = 10 columns after nominal encoding."
   ]
  },
  {
   "cell_type": "markdown",
   "id": "ca629506-0d9b-419f-a6dc-49342defb8af",
   "metadata": {},
   "source": [
    "# Q6. You are working with a dataset containing information about different types of animals, including their species, habitat, and diet. Which encoding technique would you use to transform the categorical data into a format suitable for machine learning algorithms? Justify your answer."
   ]
  },
  {
   "cell_type": "code",
   "execution_count": null,
   "id": "029a4621-f2e4-42de-bbfc-e62f05bc863e",
   "metadata": {},
   "outputs": [],
   "source": [
    "* For a dataset containing information about animals' species, habitat, and diet, I would use One-Hot Encoding to transform the categorical data.\n",
    "\n",
    "## Why One-Hot Encoding?\n",
    "* No order between categories: The categories like \"species,\" \"habitat,\" and \"diet\" don't have a natural order (e.g., one species isn’t \"greater\" than another). One-Hot Encoding is perfect for such nominal data because it treats each category as a separate entity.\n",
    "\n",
    "## Small number of unique categories: \n",
    "* Typically, attributes like species, habitat, and diet don’t have an excessive number of unique values, so One-Hot Encoding won’t create too many columns and won’t make the dataset too large or sparse.\n",
    "\n",
    "## Example:\n",
    "* If you have a column for diet with three unique values like herbivore, carnivore, and omnivore, One-Hot Encoding would create 3 new columns:\n",
    "\n",
    "\n",
    "Herbivore  Carnivore  Omnivore\n",
    "    1          0         0\n",
    "    0          1         0\n",
    "    0          0         1\n",
    "\n",
    "                      \n",
    "## Justification:\n",
    "* Prevents unintended relationships: One-Hot Encoding avoids assigning numbers to categories, which could imply an incorrect relationship (like using Label Encoding, where \"herbivore\" might be labeled as 1 and \"carnivore\" as 2, making it seem like carnivore is greater)\n",
    "\n",
    "## Works well with many algorithms: \n",
    "* One-Hot Encoding is compatible with most machine learning algorithms, especially linear models and neural networks, as it provides a clear representation of categorical data."
   ]
  },
  {
   "cell_type": "markdown",
   "id": "2142dc8f-9bb0-4e30-90b1-e0efedf804c3",
   "metadata": {},
   "source": [
    "# Q7.You are working on a project that involves predicting customer churn for a telecommunications company. You have a dataset with 5 features, including the customer's gender, age, contract type, monthly charges, and tenure. Which encoding technique(s) would you use to transform the categorical data into numerical data? Provide a step-by-step explanation of how you would implement the encoding."
   ]
  },
  {
   "cell_type": "code",
   "execution_count": null,
   "id": "48e8bd39-f0e5-4153-936a-c706e4a1ecce",
   "metadata": {},
   "outputs": [],
   "source": [
    "* For predicting customer churn, you have a dataset with both categorical and numerical data. The features include gender and contract type (categorical), and age, monthly charges, and tenure (numerical). Here’s how to encode the categorical data:\n",
    "\n",
    "## Step-by-Step Encoding:\n",
    "### Identify categorical features:\n",
    "\n",
    "* Gender (e.g., male, female)\n",
    "* Contract type (e.g., month-to-month, one-year, two-year)\n",
    "\n",
    "## Choose Encoding Technique:\n",
    "\n",
    "* For both gender and contract type, use One-Hot Encoding because they are nominal categories with no inherent order (e.g., \"male\" isn't greater than \"female,\" and no contract type is \"greater\" than the others).\n",
    "\n",
    "## Apply One-Hot Encoding:\n",
    "\n",
    "* Gender: Convert the two categories (male, female) into two binary columns.\n",
    "* Contract type: Convert the three categories (month-to-month, one-year, two-year) into three binary columns.\n",
    "* Final encoded data: After One-Hot Encoding, your dataset will look like this:\n",
    "\n",
    "Gender_Male\tGender_Female\tContract_Month-to-Month\tContract_One-Year\tContract_Two-Year\tAge\tMonthly_Charges\tTenure\n",
    "    1\t         0             \t        1\t                   0\t             0\t        25\t    70.00\t      12\n",
    "    0\t         1\t                    0\t                   1\t             0\t        45\t    85.50\t      24\n",
    "\n",
    "## Why use One-Hot Encoding?\n",
    "* Gender and contract type are nominal, with no natural order, so One-Hot Encoding prevents the model from assuming any ranking or relationship between categories.\n",
    "* It works well with most machine learning models, especially for small numbers of categories like in this case."
   ]
  },
  {
   "cell_type": "code",
   "execution_count": null,
   "id": "7097a7b5-0891-4261-8d9c-45d823ddcf33",
   "metadata": {},
   "outputs": [],
   "source": []
  },
  {
   "cell_type": "code",
   "execution_count": null,
   "id": "6b2aee12-256b-4c24-b912-d2c4aac61bf7",
   "metadata": {},
   "outputs": [],
   "source": []
  },
  {
   "cell_type": "code",
   "execution_count": null,
   "id": "d916b39b-fc83-4f5b-be85-36c6c3d21dca",
   "metadata": {},
   "outputs": [],
   "source": []
  },
  {
   "cell_type": "code",
   "execution_count": null,
   "id": "37c14133-0c16-4ccb-89ab-ee5d725f05d0",
   "metadata": {},
   "outputs": [],
   "source": []
  },
  {
   "cell_type": "code",
   "execution_count": null,
   "id": "e2d01677-5c08-4b60-a725-8b08eea57e12",
   "metadata": {},
   "outputs": [],
   "source": []
  },
  {
   "cell_type": "code",
   "execution_count": null,
   "id": "1686c723-d6d5-4ba8-a2b5-6b50ece836ec",
   "metadata": {},
   "outputs": [],
   "source": []
  },
  {
   "cell_type": "code",
   "execution_count": null,
   "id": "d70641d0-7cf1-4e4d-9212-a509fadc0844",
   "metadata": {},
   "outputs": [],
   "source": []
  },
  {
   "cell_type": "code",
   "execution_count": null,
   "id": "e678f61b-ea59-4e1c-a8e6-05048f93918a",
   "metadata": {},
   "outputs": [],
   "source": []
  }
 ],
 "metadata": {
  "kernelspec": {
   "display_name": "Python 3 (ipykernel)",
   "language": "python",
   "name": "python3"
  },
  "language_info": {
   "codemirror_mode": {
    "name": "ipython",
    "version": 3
   },
   "file_extension": ".py",
   "mimetype": "text/x-python",
   "name": "python",
   "nbconvert_exporter": "python",
   "pygments_lexer": "ipython3",
   "version": "3.10.9"
  }
 },
 "nbformat": 4,
 "nbformat_minor": 5
}
